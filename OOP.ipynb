{
  "nbformat": 4,
  "nbformat_minor": 0,
  "metadata": {
    "colab": {
      "name": "OOP.ipynb",
      "version": "0.3.2",
      "provenance": [],
      "collapsed_sections": []
    },
    "kernelspec": {
      "name": "python3",
      "display_name": "Python 3"
    }
  },
  "cells": [
    {
      "metadata": {
        "id": "C1evFhMWX1OT",
        "colab_type": "text"
      },
      "cell_type": "markdown",
      "source": [
        "## OOP Programming Concept\n",
        "\n",
        "\n",
        "*   By prasertcbs youtube channel\n",
        "*   <a href=\"https://www.youtube.com/channel/UCl4w_st9XiRHqWhnanGjIGg\">pracertcbs</a>\n",
        "\n"
      ]
    },
    {
      "metadata": {
        "id": "zFm6dvpTgS7K",
        "colab_type": "code",
        "outputId": "d29ccc0a-3fdf-456e-b325-9e07716d111c",
        "colab": {
          "base_uri": "https://localhost:8080/",
          "height": 51
        }
      },
      "cell_type": "code",
      "source": [
        "def regtangle(w, h):\n",
        "  return w*h\n",
        "\n",
        "# __ is dunders or double underscore คือ ปกติ มัน interprete ผ่าน function ชื่อ main อยู่แล้ว\n",
        "if __name__ == '__main__':\n",
        "  print(__name__)\n",
        "  # Output จะออกมาเป็น __main__\n",
        "  print(regtangle(3, 5))\n",
        "  \n",
        "  \"\"\"\n",
        "  ประโยชน์ เช่น ถ้า import file อื่นมา การใส่ if __name__ == '__main__' ใน file อื่น\n",
        "  file ที่เรียกมาใช้จะไม่ run main method ของตัวมันเอง \n",
        "  \"\"\""
      ],
      "execution_count": 0,
      "outputs": [
        {
          "output_type": "stream",
          "text": [
            "__main__\n",
            "15\n"
          ],
          "name": "stdout"
        }
      ]
    },
    {
      "metadata": {
        "id": "Fsdzfo_4Xi8t",
        "colab_type": "code",
        "outputId": "837f6007-e76f-48e1-842c-674dc6c7cc34",
        "colab": {
          "base_uri": "https://localhost:8080/",
          "height": 34
        }
      },
      "cell_type": "code",
      "source": [
        "# Simple Class\n",
        "\n",
        "\"\"\"\n",
        "class Player:\n",
        "class Player():\n",
        "class Player(inheritance object):\n",
        "\"\"\"\n",
        "\n",
        "class Player:\n",
        "  # attibutes\n",
        "  \n",
        "  # methods\n",
        "  # __ is dunders or double underscore\n",
        "  # __init__ is constructor\n",
        "  def __init__(self):\n",
        "    self.firstName = \"\"\n",
        "    self.lastName = \"\"\n",
        "    self.number = \"\"\n",
        "\n",
        "# Shorten Class\n",
        "class Player2():\n",
        "  def __init__(self, firstName, lastName, number):\n",
        "    self.firstName = firstName\n",
        "    self.lastName = lastName\n",
        "    self.number = number\n",
        "  \n",
        "if __name__ == '__main__':\n",
        "  # Class Player\n",
        "  # Player 1\n",
        "  player1 = Player()\n",
        "  player1.firstName = \"Loris\"\n",
        "  player1.lastName = \"Karius\"\n",
        "  player1.number = 1\n",
        "  # Player 2\n",
        "  player2 = Player()\n",
        "  player2.firstName = \"Alex\"\n",
        "  player2.lastName = \"Manniger\"\n",
        "  player2.number = 13\n",
        "  \n",
        "  # Class Player2\n",
        "  # Player 3\n",
        "  player3 = Player2(\"Loris\", \"Karius\", 1)\n",
        "  # Player 4\n",
        "  player4 = Player2(\"Alex\", \"Manniger\", 13)\n",
        "  \n",
        "  # Test\n",
        "  print(player1.firstName, player2.firstName, player3.firstName, player4.firstName)"
      ],
      "execution_count": 0,
      "outputs": [
        {
          "output_type": "stream",
          "text": [
            "Loris Alex Loris Alex\n"
          ],
          "name": "stdout"
        }
      ]
    },
    {
      "metadata": {
        "id": "lAztLrhNddrF",
        "colab_type": "code",
        "outputId": "a1f78430-9229-408c-e7b4-05e833f064b5",
        "colab": {
          "base_uri": "https://localhost:8080/",
          "height": 68
        }
      },
      "cell_type": "code",
      "source": [
        "# __init__\n",
        "# การกำหนด default constructor ในกรณีมีทั้ง default constructor and parameterized constructor\n",
        "# ทำโดยการตั้งค่า parameter ที่รับเข้ามาเป็น None\n",
        "class Player3:\n",
        "  def __init__(self, firstName=None, lastName=None, number=None):\n",
        "    self.firstName = firstName\n",
        "    self.lastName = lastName\n",
        "    self.number = number\n",
        "    \n",
        "player5 = Player3()\n",
        "print(player5.firstName)\n",
        "# Output จะออกมาเป็น None\n",
        "\n",
        "player6 = Player3(lastName=\"xxx\")\n",
        "print(player6.lastName)\n",
        "# Output จะออกมาเป็น xxx\n",
        "\n",
        "print(player5)\n",
        "# Output จะเป็น <__main__.Player3 object at 0x7f863d08b7b8> คือเป็นตำแหน่ง Object ใน memmory\n",
        "# ต้องใช้ __str__ Override Method ให้แสดงผลอย่างอื่น"
      ],
      "execution_count": 0,
      "outputs": [
        {
          "output_type": "stream",
          "text": [
            "None\n",
            "xxx\n",
            "<__main__.Player3 object at 0x7f863d0a8ac8>\n"
          ],
          "name": "stdout"
        }
      ]
    },
    {
      "metadata": {
        "id": "dyLcfrs2iIrI",
        "colab_type": "text"
      },
      "cell_type": "markdown",
      "source": [
        "## ในการ import ใช้คำสั่ง <br/>\n",
        "### แบบที่ 1 <br/>\n",
        "**import** *ชื่อไฟล์ในfolderเดียวกัน*  <br/>\n",
        "### แบบที่ 2  <br/>\n",
        "**from**  *ชื่อไฟล์ในfolderเดียวกัน* **import**  *ชื่อclass 1*, *ชื่อclass 2*, *ชื่อclass n* <br/>\n",
        "### แบบที่ 3  <br/>\n",
        "**import** *ชื่อไฟล์ในfolderเดียวกัน*  **as** *ชื่อที่เอาไปใช้*"
      ]
    },
    {
      "metadata": {
        "id": "Bmzu_eM7kE0Q",
        "colab_type": "text"
      },
      "cell_type": "markdown",
      "source": [
        "## vars() และ getattr()"
      ]
    },
    {
      "metadata": {
        "id": "s-yJ8NAfgFe6",
        "colab_type": "code",
        "outputId": "619dfebc-21a5-4395-d2da-f92e158712d6",
        "colab": {
          "base_uri": "https://localhost:8080/",
          "height": 119
        }
      },
      "cell_type": "code",
      "source": [
        "# ใช้ vars()\n",
        "class Person:\n",
        "  def __init__(self, fName, lName, age):\n",
        "    self.fName = fName\n",
        "    self.lName = lName\n",
        "    self.age = age\n",
        "    \n",
        "  # Method นี้เอาไว้ เวลาปริ้น Object แล้วให้มันจัดรูปแบบให้เลย\n",
        "  def __str__(self):\n",
        "    a = vars(self)\n",
        "    # a จะ return ค่าเป็น dictionary {...}\n",
        "    s = [\"{:10}: {}\".format(k, v) for k, v in a.items()]\n",
        "    return \"\\n\".join(s)\n",
        "  \n",
        "# ใช้ getattr() ซึ่งตัวนี้ระบุตำแหน่ง attr ได้ สลับลพดับ attr ได้\n",
        "class Person2:\n",
        "  def __init__(self, fName, lName, age):\n",
        "    self.fName = fName\n",
        "    self.lName = lName\n",
        "    self.age = age\n",
        "    \n",
        "  # Method นี้เอาไว้ เวลาปริ้น Object แล้วให้มันจัดรูปแบบให้เลย\n",
        "  def __str__(self):\n",
        "    attrs = (\"lName\", \"fName\", \"age\")\n",
        "    # สลับเอา lName ขึ้นก่อนได้\n",
        "    s = [\"{:10}: {}\".format(a, getattr(self, a)) for a in attrs]\n",
        "    return \"\\n\".join(s)\n",
        "  \n",
        "\n",
        "if __name__ == '__main__':\n",
        "  p = Person(\"Peter\", \"Parker\", 26)\n",
        "  p2 = Person2(\"Peter\", \"Parker\", 25)\n",
        "  print(p)\n",
        "  print(p2)"
      ],
      "execution_count": 0,
      "outputs": [
        {
          "output_type": "stream",
          "text": [
            "fName     : Peter\n",
            "lName     : Parker\n",
            "age       : 26\n",
            "lName     : Parker\n",
            "fName     : Peter\n",
            "age       : 25\n"
          ],
          "name": "stdout"
        }
      ]
    },
    {
      "metadata": {
        "id": "uc-EDOQvoXbh",
        "colab_type": "text"
      },
      "cell_type": "markdown",
      "source": [
        "### Mutable และ Immutable Object"
      ]
    },
    {
      "metadata": {
        "id": "Nu6qjTyloUrJ",
        "colab_type": "code",
        "outputId": "5767a494-1d77-4aaf-ceb8-8630905548b8",
        "colab": {
          "base_uri": "https://localhost:8080/",
          "height": 153
        }
      },
      "cell_type": "code",
      "source": [
        "# immutable object\n",
        "def immutable_demo():\n",
        "  n = 5\n",
        "  print(\"id(n) = {}, n = {}\".format(id(n), n))\n",
        "  n = n + 4\n",
        "  print(\"id(n) = {}, n = {}\".format(id(n), n))\n",
        "  \"\"\"\n",
        "  id ของ n จะเปลี่ยนไป เพราะ เราจะสร้าง n ใหม่\n",
        "  ตำแหน่ง n เก่าไม่ได้ใช้แล้วจะเข้าสู่ garbage collection เพื่อเข้าสู่กระบวนการคืนพื้นที่หน่วยความจำ\n",
        "  \"\"\"\n",
        "  \n",
        "# mutable object\n",
        "def mutable_demo():\n",
        "  p = [\"Parker\"]\n",
        "  print(\"id(p) = {}, p = {}\".format(id(p), p))\n",
        "  p[0] = \"Peter \"\n",
        "  print(\"id(p) = {}, p = {}\".format(id(p), p))\n",
        "  p[0] += \"Parker\"\n",
        "  print(\"id(p) = {}, p = {}\".format(id(p), p))\n",
        "  q = p\n",
        "  print(\"id(q) = {}, q = {}\".format(id(q), q))\n",
        "  # q จะตำแหน่ง memmory เดียวกับ p เลย เป็น referance object\n",
        "  q.append(\"Tony Stark\")\n",
        "  print(\"id(q) = {}, q = {}\".format(id(q), q))\n",
        "  print(\"id(p) = {}, p = {}\".format(id(p), p))\n",
        "  # ส่งผลให้ ถ้าแก้ q แล้ว p ก็ถูกแก้ด้วย\n",
        "  \"\"\"\n",
        "  id (ตำแหน่ง) ของ p จะไม่เปลี่ยนไป เพราะ เป็นการเขียนทับ memmory เดิม\n",
        "  มันเชื่อมโยงกันผ่านการ ref ที่ตำแหน่ง memory\n",
        "  \"\"\"\n",
        "  \n",
        "if __name__ == '__main__':\n",
        "  immutable_demo()\n",
        "  mutable_demo()"
      ],
      "execution_count": 0,
      "outputs": [
        {
          "output_type": "stream",
          "text": [
            "id(n) = 10910528, n = 5\n",
            "id(n) = 10910656, n = 9\n",
            "id(p) = 140214526397320, p = ['Parker']\n",
            "id(p) = 140214526397320, p = ['Peter ']\n",
            "id(p) = 140214526397320, p = ['Peter Parker']\n",
            "id(q) = 140214526397320, q = ['Peter Parker']\n",
            "id(q) = 140214526397320, q = ['Peter Parker', 'Tony Stark']\n",
            "id(p) = 140214526397320, p = ['Peter Parker', 'Tony Stark']\n"
          ],
          "name": "stdout"
        }
      ]
    }
  ]
}